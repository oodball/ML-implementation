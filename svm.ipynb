{
 "cells": [
  {
   "cell_type": "markdown",
   "metadata": {},
   "source": [
    "# SVM Implmentation"
   ]
  },
  {
   "cell_type": "code",
   "execution_count": null,
   "metadata": {},
   "outputs": [],
   "source": [
    "import pandas as pd\n",
    "import numpy as np\n",
    "import matplotlib.pyplot as plt\n",
    "from ucimlrepo import fetch_ucirepo\n",
    "from sklearn.svm import SVC\n",
    "from sklearn.preprocessing import StandardScaler\n",
    "from sklearn.metrics import classification_report, accuracy_score, confusion_matrix, ConfusionMatrixDisplay\n",
    "from sklearn.model_selection import train_test_split\n",
    "\n",
    "\n",
    "# fetch datasets\n",
    "rice_cammeo_and_osmancik = fetch_ucirepo(id=545) \n",
    "parkinsons = fetch_ucirepo(id=174) \n",
    "cdc_diabetes_health_indicators = fetch_ucirepo(id=891)"
   ]
  },
  {
   "cell_type": "code",
   "execution_count": 1,
   "metadata": {},
   "outputs": [],
   "source": [
    "# # Function to train and evaluate model\n",
    "def train_evaluate_model(X, y, test_size, split_name):\n",
    "    X_train, X_test, y_train, y_test = train_test_split(\n",
    "        X, y, test_size=test_size, random_state=42\n",
    "    )\n",
    "\n",
    "    scaler = StandardScaler()\n",
    "    X_train = scaler.fit_transform(X_train)\n",
    "    X_test = scaler.transform(X_test)\n",
    "    \n",
    "    print(\"SVM Training...\")\n",
    "    model = SVC(kernel='rbf', random_state=42)\n",
    "    model.fit(X_train, y_train)\n",
    "    \n",
    "    y_pred = model.predict(X_test)\n",
    "    accuracy = accuracy_score(y_test, y_pred)\n",
    "\n",
    "    print(accuracy)\n",
    "    \n",
    "    print(f\"\\n {split_name} Split (Train: {100-test_size*100}% Test: {test_size*100}%)\")\n",
    "    print(f\"Accuracy: {accuracy:.2f}\")\n",
    "    print(\"\\nClassification Report:\")\n",
    "    print(classification_report(y_test, y_pred))\n",
    "\n",
    "    # Create confusion matrix\n",
    "    cm = confusion_matrix(y_test, y_pred)\n",
    "    \n",
    "    # Plot confusion matrix\n",
    "    plt.figure(figsize=(8, 6))\n",
    "    disp = ConfusionMatrixDisplay(confusion_matrix=cm)\n",
    "    disp.plot(cmap='Blues', values_format=\"d\")\n",
    "    plt.title(f'Confusion Matrix - {split_name} Split')\n",
    "    plt.show()\n",
    "    \n",
    "    return accuracy\n",
    "\n",
    "# splits = {\n",
    "#     \"70-30\": 0.3,\n",
    "#     \"80-20\": 0.2,\n",
    "#     \"50-50\": 0.5\n",
    "# }\n",
    "# def train_and_evaluate_svm(X, y, test_size, split_name):\n",
    "#     print(f\"\\nTraining with {split_name} split\")\n",
    "\n",
    "#     # Train-test split\n",
    "#     X_train, X_test, y_train, y_test = train_test_split(X, y, test_size=test_size, random_state=42)\n",
    "\n",
    "#     # Standardize features\n",
    "#     scaler = StandardScaler()\n",
    "#     X_train = scaler.fit_transform(X_train)\n",
    "#     X_test = scaler.transform(X_test)\n",
    "\n",
    "#     # Initialize and train SVM\n",
    "#     svm_model = SVC(kernel='linear', C=1)\n",
    "#     svm_model.fit(X_train, y_train)\n",
    "\n",
    "#     # Test set evaluation\n",
    "#     y_pred = svm_model.predict(X_test)\n",
    "#     test_accuracy = accuracy_score(y_test, y_pred)\n",
    "#     print(f\"Test Set Accuracy for {split_name} split: {test_accuracy:.4f}\")\n",
    "#     return test_accuracy\n",
    "\n",
    "splits = {\n",
    "    \"70-30\": 0.3,\n",
    "    \"80-20\": 0.2,\n",
    "    \"50-50\": 0.5\n",
    "}\n",
    "\n"
   ]
  },
  {
   "cell_type": "markdown",
   "metadata": {},
   "source": [
    "### Dataset 1: Human Activity Recognition Using Smartphones Dataset\n"
   ]
  },
  {
   "cell_type": "code",
   "execution_count": null,
   "metadata": {},
   "outputs": [
    {
     "name": "stdout",
     "output_type": "stream",
     "text": [
      "(253680, 21) (253680, 1)\n",
      "SVM Training...\n"
     ]
    }
   ],
   "source": [
    "X = cdc_diabetes_health_indicators.data.features \n",
    "y = cdc_diabetes_health_indicators.data.targets\n",
    "print(X.shape, y.shape)\n",
    "y = y.values.ravel()\n",
    "\n",
    "results = {}\n",
    "for split_name, test_size in splits.items():\n",
    "    accuracy = train_evaluate_model(X, y, test_size, split_name)\n",
    "    results[split_name] = accuracy\n",
    "\n",
    "# Print comparison\n",
    "avg_acc = 0\n",
    "print(\"\\n Summary of Results\")\n",
    "for split, acc in results.items():\n",
    "    print(f\"{split} split accuracy: {acc:.2f}\")\n",
    "    avg_acc += acc\n",
    "\n",
    "avg_acc /= len(results)\n",
    "\n",
    "print(f\"Average Accuracy: {avg_acc:.2f}\")"
   ]
  },
  {
   "cell_type": "markdown",
   "metadata": {},
   "source": [
    "### Dataset 2: "
   ]
  },
  {
   "cell_type": "markdown",
   "metadata": {},
   "source": []
  },
  {
   "cell_type": "code",
   "execution_count": null,
   "metadata": {},
   "outputs": [
    {
     "ename": "NameError",
     "evalue": "name 'rice_cammeo_and_osmancik' is not defined",
     "output_type": "error",
     "traceback": [
      "\u001b[1;31m---------------------------------------------------------------------------\u001b[0m",
      "\u001b[1;31mNameError\u001b[0m                                 Traceback (most recent call last)",
      "Cell \u001b[1;32mIn[2], line 2\u001b[0m\n\u001b[0;32m      1\u001b[0m \u001b[38;5;66;03m# data (as pandas dataframes) \u001b[39;00m\n\u001b[1;32m----> 2\u001b[0m X \u001b[38;5;241m=\u001b[39m \u001b[43mrice_cammeo_and_osmancik\u001b[49m\u001b[38;5;241m.\u001b[39mdata\u001b[38;5;241m.\u001b[39mfeatures \n\u001b[0;32m      3\u001b[0m y \u001b[38;5;241m=\u001b[39m rice_cammeo_and_osmancik\u001b[38;5;241m.\u001b[39mdata\u001b[38;5;241m.\u001b[39mtargets \n\u001b[0;32m      5\u001b[0m results \u001b[38;5;241m=\u001b[39m {}\n",
      "\u001b[1;31mNameError\u001b[0m: name 'rice_cammeo_and_osmancik' is not defined"
     ]
    },
    {
     "ename": "",
     "evalue": "",
     "output_type": "error",
     "traceback": [
      "\u001b[1;31mThe Kernel crashed while executing code in the current cell or a previous cell. \n",
      "\u001b[1;31mPlease review the code in the cell(s) to identify a possible cause of the failure. \n",
      "\u001b[1;31mClick <a href='https://aka.ms/vscodeJupyterKernelCrash'>here</a> for more info. \n",
      "\u001b[1;31mView Jupyter <a href='command:jupyter.viewOutput'>log</a> for further details."
     ]
    }
   ],
   "source": [
    "# data (as pandas dataframes) \n",
    "X = rice_cammeo_and_osmancik.data.features \n",
    "y = rice_cammeo_and_osmancik.data.targets \n",
    "  \n",
    "results = {}\n",
    "for split_name, test_size in splits.items():\n",
    "    accuracy = train_evaluate_model(X, y.values.ravel(), test_size, split_name)\n",
    "    results[split_name] = accuracy\n",
    "\n",
    "# Print comparison\n",
    "avg_acc = 0\n",
    "print(\"\\n Summary of Results\")\n",
    "for split, acc in results.items():\n",
    "    print(f\"{split} split accuracy: {acc:.2f}\")\n",
    "    avg_acc += acc\n",
    "\n",
    "avg_acc /= len(results)\n",
    "\n",
    "print(f\"Average Accuracy: {avg_acc:.2f}\")"
   ]
  },
  {
   "cell_type": "markdown",
   "metadata": {},
   "source": [
    "### Dataset 3: "
   ]
  },
  {
   "cell_type": "code",
   "execution_count": 19,
   "metadata": {},
   "outputs": [
    {
     "name": "stdout",
     "output_type": "stream",
     "text": [
      "SVM Training...\n",
      "0.8135593220338984\n",
      "\n",
      " 70-30 Split (Train: 70.0% Test: 30.0%)\n",
      "Accuracy: 0.81\n",
      "\n",
      "Classification Report:\n",
      "              precision    recall  f1-score   support\n",
      "\n",
      "           0       1.00      0.27      0.42        15\n",
      "           1       0.80      1.00      0.89        44\n",
      "\n",
      "    accuracy                           0.81        59\n",
      "   macro avg       0.90      0.63      0.65        59\n",
      "weighted avg       0.85      0.81      0.77        59\n",
      "\n"
     ]
    },
    {
     "data": {
      "text/plain": [
       "<Figure size 800x600 with 0 Axes>"
      ]
     },
     "metadata": {},
     "output_type": "display_data"
    },
    {
     "data": {
      "image/png": "[encoded data removed]",
      "text/plain": [
       "<Figure size 640x480 with 2 Axes>"
      ]
     },
     "metadata": {},
     "output_type": "display_data"
    },
    {
     "name": "stdout",
     "output_type": "stream",
     "text": [
      "SVM Training...\n",
      "0.8461538461538461\n",
      "\n",
      " 80-20 Split (Train: 80.0% Test: 20.0%)\n",
      "Accuracy: 0.85\n",
      "\n",
      "Classification Report:\n",
      "              precision    recall  f1-score   support\n",
      "\n",
      "           0       0.67      0.29      0.40         7\n",
      "           1       0.86      0.97      0.91        32\n",
      "\n",
      "    accuracy                           0.85        39\n",
      "   macro avg       0.76      0.63      0.66        39\n",
      "weighted avg       0.83      0.85      0.82        39\n",
      "\n"
     ]
    },
    {
     "data": {
      "text/plain": [
       "<Figure size 800x600 with 0 Axes>"
      ]
     },
     "metadata": {},
     "output_type": "display_data"
    },
    {
     "data": {
      "image/png": "[encoded data removed]",
      "text/plain": [
       "<Figure size 640x480 with 2 Axes>"
      ]
     },
     "metadata": {},
     "output_type": "display_data"
    },
    {
     "name": "stdout",
     "output_type": "stream",
     "text": [
      "SVM Training...\n",
      "0.8163265306122449\n",
      "\n",
      " 50-50 Split (Train: 50.0% Test: 50.0%)\n",
      "Accuracy: 0.82\n",
      "\n",
      "Classification Report:\n",
      "              precision    recall  f1-score   support\n",
      "\n",
      "           0       1.00      0.22      0.36        23\n",
      "           1       0.81      1.00      0.89        75\n",
      "\n",
      "    accuracy                           0.82        98\n",
      "   macro avg       0.90      0.61      0.62        98\n",
      "weighted avg       0.85      0.82      0.77        98\n",
      "\n"
     ]
    },
    {
     "data": {
      "text/plain": [
       "<Figure size 800x600 with 0 Axes>"
      ]
     },
     "metadata": {},
     "output_type": "display_data"
    },
    {
     "data": {
      "image/png": "[encoded data removed]",
      "text/plain": [
       "<Figure size 640x480 with 2 Axes>"
      ]
     },
     "metadata": {},
     "output_type": "display_data"
    },
    {
     "name": "stdout",
     "output_type": "stream",
     "text": [
      "\n",
      " Summary of Results\n",
      "70-30 split accuracy: 0.81\n",
      "80-20 split accuracy: 0.85\n",
      "50-50 split accuracy: 0.82\n",
      "Average Accuracy: 0.83\n"
     ]
    }
   ],
   "source": [
    "X = parkinsons.data.features \n",
    "y = parkinsons.data.targets \n",
    "  \n",
    "results = {}\n",
    "for split_name, test_size in splits.items():\n",
    "    accuracy = train_evaluate_model(X, y.values.ravel(), test_size, split_name)\n",
    "    results[split_name] = accuracy\n",
    "\n",
    "# Print comparison\n",
    "avg_acc = 0\n",
    "print(\"\\n Summary of Results\")\n",
    "for split, acc in results.items():\n",
    "    print(f\"{split} split accuracy: {acc:.2f}\")\n",
    "    avg_acc += acc\n",
    "\n",
    "avg_acc /= len(results.items())\n",
    "\n",
    "print(f\"Average Accuracy: {avg_acc:.2f}\")"
   ]
  },
  {
   "cell_type": "code",
   "execution_count": null,
   "metadata": {},
   "outputs": [],
   "source": []
  }
 ],
 "metadata": {
  "kernelspec": {
   "display_name": "Python 3",
   "language": "python",
   "name": "python3"
  },
  "language_info": {
   "codemirror_mode": {
    "name": "ipython",
    "version": 3
   },
   "file_extension": ".py",
   "mimetype": "text/x-python",
   "name": "python",
   "nbconvert_exporter": "python",
   "pygments_lexer": "ipython3",
   "version": "3.12.3"
  }
 },
 "nbformat": 4,
 "nbformat_minor": 2
}
